{
 "metadata": {
  "name": "",
  "signature": "sha256:521d038b7c579181f7fde98417c106e27ccf021f875f5ad747c4ed94ceb0499a"
 },
 "nbformat": 3,
 "nbformat_minor": 0,
 "worksheets": [
  {
   "cells": [
    {
     "cell_type": "heading",
     "level": 1,
     "metadata": {},
     "source": [
      "Uniform Distribution"
     ]
    },
    {
     "cell_type": "markdown",
     "metadata": {},
     "source": [
      "This code produces a random uniform distribution of numbers given a range and using a pseudo-random number generator random.uniform().\n",
      "\n",
      "$Given\\;U\\sim U(0,1):$\n",
      "\n",
      "$\\;\\;\\;\\;we\\;will\\;simulate\\;V\\sim V(a,b)$\n",
      "\n",
      "$\\;\\;\\;\\;where\\;a\\;is\\;less\\;than\\;b$\n",
      "\n",
      "$\\;\\;\\;\\;using\\;V=a+(b-a)U$"
     ]
    },
    {
     "cell_type": "markdown",
     "metadata": {},
     "source": [
      "Set the range of the distribution (a < x < b)."
     ]
    },
    {
     "cell_type": "code",
     "collapsed": false,
     "input": [
      "a=0\n",
      "b=100"
     ],
     "language": "python",
     "metadata": {},
     "outputs": [],
     "prompt_number": 6
    },
    {
     "cell_type": "markdown",
     "metadata": {},
     "source": [
      "The number of items in the set (n). "
     ]
    },
    {
     "cell_type": "code",
     "collapsed": false,
     "input": [
      "n=100000"
     ],
     "language": "python",
     "metadata": {},
     "outputs": [],
     "prompt_number": 7
    },
    {
     "cell_type": "markdown",
     "metadata": {},
     "source": [
      "Loop to generate the uniform distribution. A random number generator random.uniform() is used to provide a random number within [0,1], and then the number is transformed to the scale of [a,b]."
     ]
    },
    {
     "cell_type": "code",
     "collapsed": false,
     "input": [
      "import random\n",
      "set=[]\n",
      "for i in range(n):\n",
      "    set.append(a+(b-a)*random.uniform(0,1))   "
     ],
     "language": "python",
     "metadata": {},
     "outputs": [],
     "prompt_number": 8
    },
    {
     "cell_type": "markdown",
     "metadata": {},
     "source": [
      "Plot the results."
     ]
    },
    {
     "cell_type": "code",
     "collapsed": false,
     "input": [
      "%matplotlib inline\n",
      "import matplotlib.pyplot as plt\n",
      "uniform=plt.hist(set,50)\n",
      "plt.xlabel('Number',size=15)\n",
      "plt.ylabel('Frequency',size=15)\n",
      "plt.show()"
     ],
     "language": "python",
     "metadata": {},
     "outputs": [
      {
       "metadata": {},
       "output_type": "display_data",
       "png": "[encoded data removed]",
       "text": [
        "<matplotlib.figure.Figure at 0x7f7af4323050>"
       ]
      }
     ],
     "prompt_number": 9
    },
    {
     "cell_type": "markdown",
     "metadata": {},
     "source": [
      "**References:**\n",
      "\n",
      "1. Wilkinson, DJ (2006) *Stochastic modelling for systems biology*, Chapman & Hall."
     ]
    }
   ],
   "metadata": {}
  }
 ]
}
