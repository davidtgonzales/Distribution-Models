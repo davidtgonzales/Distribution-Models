{
 "metadata": {
  "name": "",
  "signature": "sha256:8a6915224eb31d88f27bcca245d6cfa5ed8491c0dde45a2fc028b18bbc7664c8"
 },
 "nbformat": 3,
 "nbformat_minor": 0,
 "worksheets": [
  {
   "cells": [
    {
     "cell_type": "heading",
     "level": 1,
     "metadata": {},
     "source": [
      "Exponential Distribution"
     ]
    },
    {
     "cell_type": "markdown",
     "metadata": {},
     "source": [
      "This code produces an exponential distribution given a uniform random set of numbers U $\\begin{equation} \\sim \\end{equation}$ U(0,1) and an expectation value $\\begin{equation}(\\lambda )\\end{equation}$.\n",
      "\n",
      "$Given\\;U\\sim U(0,1):$\n",
      "\n",
      "$\\;\\;\\;\\;we\\;will\\;simulate\\;X\\sim Exp(\\lambda )$\n",
      "\n",
      "$\\;\\;\\;\\;where\\;1/\\lambda\\;=\\;expectation value$\n",
      "\n",
      "$\\;\\;\\;\\;using\\;X=-(1/\\lambda )\\;log\\;U$"
     ]
    },
    {
     "cell_type": "markdown",
     "metadata": {},
     "source": [
      "Set the value of $\\begin{equation}\\lambda \\end{equation}$."
     ]
    },
    {
     "cell_type": "code",
     "collapsed": false,
     "input": [
      "l=1"
     ],
     "language": "python",
     "metadata": {},
     "outputs": [],
     "prompt_number": 1
    },
    {
     "cell_type": "markdown",
     "metadata": {},
     "source": [
      "The number of items in the set (n)."
     ]
    },
    {
     "cell_type": "code",
     "collapsed": false,
     "input": [
      "n=10000"
     ],
     "language": "python",
     "metadata": {},
     "outputs": [],
     "prompt_number": 2
    },
    {
     "cell_type": "markdown",
     "metadata": {},
     "source": [
      "Loop to generate the exponential distribution. A random number generator random.uniform() is used to provide a random number within [0,1], and then the number is transformed to the exponential distribution."
     ]
    },
    {
     "cell_type": "code",
     "collapsed": false,
     "input": [
      "import random\n",
      "import math\n",
      "set=[]\n",
      "for i in range(n):\n",
      "    set.append(-(1/l)*math.log(random.uniform(0,1)))   "
     ],
     "language": "python",
     "metadata": {},
     "outputs": [],
     "prompt_number": 3
    },
    {
     "cell_type": "markdown",
     "metadata": {},
     "source": [
      "Plot the results."
     ]
    },
    {
     "cell_type": "code",
     "collapsed": false,
     "input": [
      "%matplotlib inline\n",
      "import matplotlib.pyplot as plt\n",
      "uniform=plt.hist(set,50)\n",
      "plt.xlabel('Number',size=15)\n",
      "plt.ylabel('Frequency',size=15)\n",
      "plt.show()"
     ],
     "language": "python",
     "metadata": {},
     "outputs": [
      {
       "metadata": {},
       "output_type": "display_data",
       "png": "[encoded data removed]",
       "text": [
        "<matplotlib.figure.Figure at 0x7f50700aded0>"
       ]
      }
     ],
     "prompt_number": 4
    },
    {
     "cell_type": "markdown",
     "metadata": {},
     "source": [
      "**References:**\n",
      "\n",
      "1. Wilkinson, DJ (2006) *Stochastic modelling for systems biology*, Chapman & Hall."
     ]
    }
   ],
   "metadata": {}
  }
 ]
}
