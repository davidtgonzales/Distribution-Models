{
 "metadata": {
  "name": "",
  "signature": "sha256:3589b6902dff114d8b2b8b50502661e002fc63a76839b444dab7e4af3dbdfe04"
 },
 "nbformat": 3,
 "nbformat_minor": 0,
 "worksheets": [
  {
   "cells": [
    {
     "cell_type": "heading",
     "level": 1,
     "metadata": {},
     "source": [
      "Normal Distribution"
     ]
    },
    {
     "cell_type": "markdown",
     "metadata": {},
     "source": [
      "This code produces a set of random and normally distributed numbers using a uniform set of numbers by two methods: the CLT or Central Limit Theorem based method and the Box-Muller method."
     ]
    },
    {
     "cell_type": "heading",
     "level": 2,
     "metadata": {},
     "source": [
      "CLT-based Method"
     ]
    },
    {
     "cell_type": "markdown",
     "metadata": {},
     "source": [
      "The CLT states that the summation of randomly generated numbers (or its arithmetic mean) will always have a normal distribution. To generate a normal distribution, we produce items by taking the mean of a set of numbers. \n",
      "\n",
      "$Given\\;U\\sim U(0,1):$\n",
      "\n",
      "$\\;\\;\\;\\;we\\;will\\;simulate\\;Z\\sim N(0,1)$\n",
      "\n",
      "$\\;\\;\\;\\;using\\;Z=\\frac{\\sum\\limits_{i=1}^m U}{m}$"
     ]
    },
    {
     "cell_type": "markdown",
     "metadata": {},
     "source": [
      "Set the number of items in the set (n)."
     ]
    },
    {
     "cell_type": "code",
     "collapsed": false,
     "input": [
      "n=10000"
     ],
     "language": "python",
     "metadata": {},
     "outputs": [],
     "prompt_number": 1
    },
    {
     "cell_type": "markdown",
     "metadata": {},
     "source": [
      "Set the number of items per summation (m)."
     ]
    },
    {
     "cell_type": "code",
     "collapsed": false,
     "input": [
      "m=100"
     ],
     "language": "python",
     "metadata": {},
     "outputs": [],
     "prompt_number": 2
    },
    {
     "cell_type": "markdown",
     "metadata": {},
     "source": [
      "Loop to generate the set of normally distributed numbers. A random number generator random.uniform(0,1) is used to provide the random number [0,1], and then a set of m random numbers are summed to produce the value of one item."
     ]
    },
    {
     "cell_type": "code",
     "collapsed": false,
     "input": [
      "import random\n",
      "set=[]\n",
      "for i in range(n):\n",
      "    sum=float(0.0)\n",
      "    for j in range(m):\n",
      "        sum=sum+random.uniform(0,1)\n",
      "    set.append(sum/m)   "
     ],
     "language": "python",
     "metadata": {},
     "outputs": [],
     "prompt_number": 3
    },
    {
     "cell_type": "markdown",
     "metadata": {},
     "source": [
      "Plot the results."
     ]
    },
    {
     "cell_type": "code",
     "collapsed": false,
     "input": [
      "%matplotlib inline\n",
      "import matplotlib.pyplot as plt\n",
      "normal=plt.hist(set,50)\n",
      "plt.xlabel('Number',size=15)\n",
      "plt.ylabel('Frequency',size=15)\n",
      "plt.show()"
     ],
     "language": "python",
     "metadata": {},
     "outputs": [
      {
       "metadata": {},
       "output_type": "display_data",
       "png": "[encoded data removed]",
       "text": [
        "<matplotlib.figure.Figure at 0x7f04d52346d0>"
       ]
      }
     ],
     "prompt_number": 4
    },
    {
     "cell_type": "heading",
     "level": 2,
     "metadata": {},
     "source": [
      "Box-Muller Method"
     ]
    },
    {
     "cell_type": "markdown",
     "metadata": {},
     "source": [
      "A more efficient method (which won't require a set of numbers just to generate one random item as in the CLT-method) is the Box-Muller method. This method trigonometric functions and an exponential distribution to produce the normal distribution.\n",
      "\n",
      "$Given\\;\\theta\\sim U(0,2\\pi)\\;and\\;R^2\\sim Exp(1/2)$\n",
      "\n",
      "$\\;\\;\\;\\;we\\;will\\;simulate\\;Z\\sim N(0,1)$\n",
      "\n",
      "$\\;\\;\\;\\;using\\;X=Rcos\\theta\\;or\\;Y=Rsin\\theta$"
     ]
    },
    {
     "cell_type": "markdown",
     "metadata": {},
     "source": [
      "The number of items in the set (n)."
     ]
    },
    {
     "cell_type": "code",
     "collapsed": false,
     "input": [
      "n=10000"
     ],
     "language": "python",
     "metadata": {},
     "outputs": [],
     "prompt_number": 6
    },
    {
     "cell_type": "markdown",
     "metadata": {},
     "source": [
      "Loop to generate the set of $\\begin{equation}\\theta \\end{equation}$."
     ]
    },
    {
     "cell_type": "code",
     "collapsed": false,
     "input": [
      "import math\n",
      "theta=[]\n",
      "for i in range(n):\n",
      "    theta.append(random.uniform(0,2*math.pi))"
     ],
     "language": "python",
     "metadata": {},
     "outputs": [],
     "prompt_number": 7
    },
    {
     "cell_type": "markdown",
     "metadata": {},
     "source": [
      "Loop to generate the exponential distribution set $\\begin{equation}R^2 \\end{equation}$."
     ]
    },
    {
     "cell_type": "code",
     "collapsed": false,
     "input": [
      "l=0.5\n",
      "rsquared=[]\n",
      "for i in range(n):\n",
      "    rsquared.append(-(1/l)*math.log(random.uniform(0,1)))"
     ],
     "language": "python",
     "metadata": {},
     "outputs": [],
     "prompt_number": 8
    },
    {
     "cell_type": "markdown",
     "metadata": {},
     "source": [
      "To produce the normal distribution set using $\\begin{equation}X=Rcos\\theta\\end{equation}$:"
     ]
    },
    {
     "cell_type": "code",
     "collapsed": false,
     "input": [
      "X=[]\n",
      "for i in range(n):\n",
      "    X.append(math.sqrt(rsquared[i])*math.cos(theta[i]))"
     ],
     "language": "python",
     "metadata": {},
     "outputs": [],
     "prompt_number": 9
    },
    {
     "cell_type": "markdown",
     "metadata": {},
     "source": [
      "Plot the results."
     ]
    },
    {
     "cell_type": "code",
     "collapsed": false,
     "input": [
      "normal=plt.hist(X,50)\n",
      "plt.xlabel('Number',size=15)\n",
      "plt.ylabel('Frequency',size=15)\n",
      "plt.show()"
     ],
     "language": "python",
     "metadata": {},
     "outputs": [
      {
       "metadata": {},
       "output_type": "display_data",
       "png": "[encoded data removed]",
       "text": [
        "<matplotlib.figure.Figure at 0x7f84429fb850>"
       ]
      }
     ],
     "prompt_number": 10
    },
    {
     "cell_type": "markdown",
     "metadata": {},
     "source": [
      "To produce the normal distribution set using $\\begin{equation}Y=Rsin\\theta\\end{equation}$:"
     ]
    },
    {
     "cell_type": "code",
     "collapsed": false,
     "input": [
      "Y=[]\n",
      "for i in range(n):\n",
      "    Y.append(math.sqrt(rsquared[i])*math.sin(theta[i]))"
     ],
     "language": "python",
     "metadata": {},
     "outputs": [],
     "prompt_number": 69
    },
    {
     "cell_type": "markdown",
     "metadata": {},
     "source": [
      "Plot the results."
     ]
    },
    {
     "cell_type": "code",
     "collapsed": false,
     "input": [
      "normal=plt.hist(Y,50)\n",
      "plt.xlabel('Number',size=15)\n",
      "plt.ylabel('Frequency',size=15)\n",
      "plt.show()"
     ],
     "language": "python",
     "metadata": {},
     "outputs": [
      {
       "metadata": {},
       "output_type": "display_data",
       "png": "[encoded data removed]",
       "text": [
        "<matplotlib.figure.Figure at 0x38fafd0>"
       ]
      }
     ],
     "prompt_number": 70
    },
    {
     "cell_type": "markdown",
     "metadata": {},
     "source": [
      "**References:**\n",
      "\n",
      "1. Wilkinson, DJ (2006) *Stochastic modelling for systems biology*, Chapman & Hall."
     ]
    }
   ],
   "metadata": {}
  }
 ]
}
